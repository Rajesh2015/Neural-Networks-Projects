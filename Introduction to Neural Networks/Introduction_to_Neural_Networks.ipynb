{
  "nbformat": 4,
  "nbformat_minor": 0,
  "metadata": {
    "colab": {
      "provenance": []
    },
    "kernelspec": {
      "name": "python3",
      "display_name": "Python 3"
    },
    "language_info": {
      "name": "python"
    }
  },
  "cells": [
    {
      "cell_type": "markdown",
      "source": [
        "# **PART A: Predicting Signal Quality Using Machine Learning**\n",
        "\n",
        "## **Domain: Electronics and Telecommunication**\n",
        "\n",
        "### **Context**\n",
        "A communications equipment manufacturing company has a product responsible for emitting informative signals. The company wants to build a machine learning model that can predict the equipment’s signal quality based on various measurable parameters.\n",
        "\n",
        "### **Data Description**\n",
        "The dataset contains information on multiple signal tests performed, including:\n",
        "- **Parameters**: Various measurable signal attributes.\n",
        "- **Signal_Quality**: The final signal strength or quality.\n",
        "\n",
        "### **Project Objective**\n",
        "To develop a classification model that can accurately predict signal quality based on the provided signal parameters.\n",
        "\n",
        "---\n"
      ],
      "metadata": {
        "id": "RVS9JbqKXUI8"
      }
    },
    {
      "cell_type": "code",
      "execution_count": 1,
      "metadata": {
        "id": "kfZUoIAfMGtw"
      },
      "outputs": [],
      "source": [
        "# Import Libraries\n",
        "import numpy as np\n",
        "import pandas as pd\n",
        "import seaborn as sns\n",
        "import matplotlib.pyplot as plt\n",
        "%matplotlib inline\n",
        "# To ignore unnecessary warnings\n",
        "import warnings\n",
        "warnings.filterwarnings(\"ignore\")\n",
        "# Preventing scientific notation.\n",
        "pd.set_option(\"display.float_format\", lambda x: \"%.3f\" % x)"
      ]
    },
    {
      "cell_type": "code",
      "source": [
        "# mount the drive\n",
        "from google.colab import drive\n",
        "drive.mount('/content/drive')"
      ],
      "metadata": {
        "id": "VclFWzleXXNg"
      },
      "execution_count": null,
      "outputs": []
    },
    {
      "cell_type": "code",
      "source": [
        "path='/content/drive/MyDrive/Python Course/neural network'"
      ],
      "metadata": {
        "id": "J2FtpaCEat0U"
      },
      "execution_count": null,
      "outputs": []
    },
    {
      "cell_type": "code",
      "source": [
        "#  store pellete for future use\n",
        "pellete='Set2'\n",
        "colors = sns.color_palette(pellete)  # Get Set2 color palette for future use\n",
        "sns.set(style=\"darkgrid\") # Set grid style"
      ],
      "metadata": {
        "id": "DFKS21vDavrT"
      },
      "execution_count": null,
      "outputs": []
    }
  ]
}